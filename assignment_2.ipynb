{
 "cells": [
  {
   "cell_type": "markdown",
   "metadata": {},
   "source": [
    "# Assignment 2\n",
    "Still working on the one-dimensional Ising chain in equilibrium with a heat bath at temperature $T$, but this time also in the presence of an external magnetic field $H$.\n",
    "* Compute the mean magnetization of the Ising chain as a function of applied magnetic field and compare it with the analytic result. Repeat the analysis for at least two different temperatures.\n",
    "* Implement the calculation of the magnetic susceptibility $\\chi(T)$ by exploiting its definition in terms of the variance of the magnetization. Compare the computed values with the analytic results for a range of magnetic fiels."
   ]
  },
  {
   "cell_type": "markdown",
   "metadata": {},
   "source": [
    "Import useful modules"
   ]
  },
  {
   "cell_type": "code",
   "execution_count": 22,
   "metadata": {},
   "outputs": [],
   "source": [
    "import numpy as np\n",
    "import matplotlib.pyplot as plt\n",
    "from matplotlib import style\n",
    "style.use('dark_background') # comment this out if you are not using the dark background"
   ]
  },
  {
   "cell_type": "markdown",
   "metadata": {},
   "source": [
    "Define a few functions that will be used in the importance sampling Monte Carlo simulation.\n",
    "- initial: performs the initialization of the system\n",
    "- energy: compute the energy of the system\n",
    "- flip_spin: flips a random spin in the system\n",
    "- montecarlo: performs importance sampling Monte Carlo for a give number of steps"
   ]
  },
  {
   "cell_type": "code",
   "execution_count": 10,
   "metadata": {},
   "outputs": [],
   "source": [
    "def initial(init,N):\n",
    "    # initial configurations\n",
    "    if init == 'up':\n",
    "        s = np.ones(N)\n",
    "    elif init == 'down':\n",
    "        s = -np.ones(N)\n",
    "    elif init == 'random':\n",
    "        s = np.random.randint(0,2,N)*2 -1\n",
    "    else:\n",
    "        print('wrong initial conditions')\n",
    "    return s"
   ]
  },
  {
   "cell_type": "code",
   "execution_count": 11,
   "metadata": {},
   "outputs": [],
   "source": [
    "def energy(s,J,B):\n",
    "    # compute the configurational energy of the spin chain\n",
    "    e = -J*s.dot(np.roll(s,-1))-B*np.sum(s)\n",
    "    return e"
   ]
  },
  {
   "cell_type": "code",
   "execution_count": 12,
   "metadata": {},
   "outputs": [],
   "source": [
    "def flip_spin(s):\t\n",
    "    # generate spin chain by flipping one spin at a time\n",
    "    index=np.random.randint(0,len(s))\n",
    "    s[index] *= -1\n",
    "    return s"
   ]
  },
  {
   "cell_type": "code",
   "execution_count": 36,
   "metadata": {},
   "outputs": [],
   "source": [
    "def analytic_magnetization(N,J,T,B_max,n_fields):\n",
    "    # analytic magnetization of Ising chain for a range of magnetic fields\n",
    "    fields=np.linspace(B_max,0,n_fields+1)\n",
    "    return fields,np.sinh(fields/T)/np.sqrt(np.sinh(fields/T)**2+np.exp(-4*J/T))\n",
    "\n",
    "def analytic_susceptibility(N,J,T,B_max,n_fields):\n",
    "    # analytic magnetization of Ising chain for a range of magnetic fields\n",
    "    fields=np.linspace(B_max,0,n_fields+1)\n",
    "    return fields,fields #NOTE: try to implement yourself the analytic formula"
   ]
  },
  {
   "cell_type": "code",
   "execution_count": 13,
   "metadata": {},
   "outputs": [],
   "source": [
    "def montecarlo(s,J,B,T,N,n_steps):\n",
    "    # importance sampling Monte Carlo algorithm\n",
    "    #\n",
    "    # initialize arrays to store results of simulation\n",
    "    #\n",
    "    energies = np.zeros(n_steps) # hold the total energy along the MC run\n",
    "    magnetizations = np.zeros(n_steps) # hold the mean magnetization along the MC run\n",
    "    microstates = np.zeros((n_steps,N)) # hold the actual states along the MC run\n",
    "    #\n",
    "    # set results of first configuration\n",
    "    #\n",
    "    energies[0]=energy(s,J,B)\n",
    "    magnetizations[0]=np.sum(s)/N\n",
    "    microstates[0, :]=s[:]\n",
    "    #\n",
    "    for i in range(1,n_steps):\n",
    "        new_s = s.copy() # trial step is a copy of the current state\n",
    "        new_s = flip_spin(new_s) # but with one random spin flipped\n",
    "        #\n",
    "        # Compute the Boltzmann factor \n",
    "        #\n",
    "        new_energy=energy(new_s,J,B)\n",
    "        old_energy=energies[i-1]\n",
    "        boltzmann_factor = np.exp((old_energy-new_energy)/T)\n",
    "        r = np.random.random()\n",
    "        if r < min(1,boltzmann_factor) :\n",
    "        # if the random number is lower than the boltzman factor\n",
    "        # or the energy decreases, accept the trial move\n",
    "            s = new_s.copy()\n",
    "            energies[i]=new_energy\n",
    "            magnetizations[i]=np.sum(s)/N\n",
    "            microstates[i, :]=s[:]\n",
    "        else:\n",
    "        # otherwise, keep the old state\n",
    "            energies[i]=old_energy\n",
    "            magnetizations[i]=magnetizations[i-1]\n",
    "            microstates[i, :]=s[:]\n",
    "    return energies, magnetizations, microstates"
   ]
  },
  {
   "cell_type": "markdown",
   "metadata": {},
   "source": [
    "Compute the average energy as a function of applied magnetic field."
   ]
  },
  {
   "cell_type": "code",
   "execution_count": 41,
   "metadata": {},
   "outputs": [],
   "source": [
    "# global simulation setup\n",
    "#\n",
    "N = 100\n",
    "J = 1.0 # Arbitrary units (kb=1.0)\n",
    "T = 4.0\n",
    "n_steps=10000 # NOTE: this number can be increased to improve the accuracy of the calculations\n",
    "n_equilibration=100 # NOTE: this number needs to be changed, use the number that you estimated previously\n",
    "#\n",
    "# setting up the range of temperatures\n",
    "#\n",
    "n_fields = 10\n",
    "B_max = 1.\n",
    "B_min = 0.\n",
    "#\n",
    "# initializing the arrays that will hold the results\n",
    "#\n",
    "fields=np.zeros(n_fields)\n",
    "mean_magnetizations=np.zeros(n_fields)\n",
    "#\n",
    "s = initial('random',N)\n",
    "for i,B in enumerate(np.linspace(B_min,B_max,n_fields)):\n",
    "    energies,magnetizations,microstates = montecarlo(s,J,B,T,N,n_steps)\n",
    "    fields[i]=B\n",
    "    mean_magnetizations[i]=np.average(magnetizations[n_equilibration:])\n",
    "    s=microstates[-1,:].copy() # the next simulation restarts from the last configuration of the current one"
   ]
  },
  {
   "cell_type": "markdown",
   "metadata": {},
   "source": [
    "Compare the numerical and analytical results"
   ]
  },
  {
   "cell_type": "code",
   "execution_count": 42,
   "metadata": {},
   "outputs": [
    {
     "data": {
      "image/png": "[encoded data removed]",
      "text/plain": [
       "<Figure size 432x288 with 1 Axes>"
      ]
     },
     "metadata": {},
     "output_type": "display_data"
    }
   ],
   "source": [
    "plt.plot(fields,mean_magnetizations,'bo')\n",
    "plt.plot(analytic_magnetization(N,J,T,B_max,n_fields)[0],analytic_magnetization(N,J,T,B_max,n_fields)[1])\n",
    "plt.show()"
   ]
  },
  {
   "cell_type": "code",
   "execution_count": null,
   "metadata": {},
   "outputs": [],
   "source": []
  }
 ],
 "metadata": {
  "interpreter": {
   "hash": "2d7846955ef7c6cdb0317123bc42ab1f1df9d7c4fbf3a9f5b21349871b965b49"
  },
  "kernelspec": {
   "display_name": "Python 3.6.5 64-bit ('base': conda)",
   "name": "python3"
  },
  "language_info": {
   "codemirror_mode": {
    "name": "ipython",
    "version": 3
   },
   "file_extension": ".py",
   "mimetype": "text/x-python",
   "name": "python",
   "nbconvert_exporter": "python",
   "pygments_lexer": "ipython3",
   "version": "3.6.5"
  },
  "orig_nbformat": 4
 },
 "nbformat": 4,
 "nbformat_minor": 2
}
